{
 "cells": [
  {
   "cell_type": "markdown",
   "id": "be0ecc06",
   "metadata": {},
   "source": [
    "## Assignment Questions"
   ]
  },
  {
   "cell_type": "markdown",
   "id": "3d678f84",
   "metadata": {},
   "source": [
    "__Q1. What is the mathematical formula for a linear SVM?__\n",
    "\n",
    "__Ans)__ The mathematical formula for a linear SVM (Support Vector Machine) is as follows:\n",
    "\n",
    "Given a training dataset with input features x and corresponding binary class labels y (where y ∈ {-1, 1}), the linear SVM aims to find a hyperplane represented by a weight vector w and a bias term b that separates the two classes with the maximum margin.\n",
    "\n",
    "The decision function of a linear SVM is defined as:\n",
    "\n",
    "f(x) = sign(w • x + b)\n",
    "\n",
    "Where:\n",
    "\n",
    "* f(x) represents the predicted class label for the input feature vector x.\n",
    "* w is the weight vector perpendicular to the hyperplane.\n",
    "* b is the bias term that determines the offset of the hyperplane from the origin.\n",
    "* • represents the dot product between the weight vector w and the input feature vector x."
   ]
  },
  {
   "cell_type": "markdown",
   "id": "ee90a9ef",
   "metadata": {},
   "source": [
    "__Q2. What is the objective function of a linear SVM?__\n",
    "\n",
    "__Ans)__ The objective function of a linear SVM (Support Vector Machine) is to maximize the margin between the classes while minimizing the classification errors. It can be formulated as an optimization problem that seeks to find the optimal values for the weight vector and bias term.\n",
    "\n",
    "The objective function of a linear SVM can be expressed as:\n",
    "\n",
    "minimize: 1/2 ||w||^2 + C Σ(max(0, 1 - y_i(w • x_i + b)))\n",
    "\n",
    "subject to: y_i(w • x_i + b) ≥ 1 - ξ_i, for all i\n",
    "\n",
    "Where:\n",
    "\n",
    "* w is the weight vector.\n",
    "* b is the bias term.\n",
    "* C is the regularization parameter that controls the trade-off between maximizing the margin and minimizing the classification errors.\n",
    "* x_i is the i-th training instance.\n",
    "* y_i is the corresponding binary class label (-1 or 1) for x_i.\n",
    "* ξ_i is the slack variable that allows for misclassification or errors in the margin.\n",
    "* ||w||^2 represents the squared L2 norm of the weight vector.\n",
    "\n",
    "By solving the optimization problem associated with the objective function, the linear SVM finds the optimal weight vector and bias term that define the decision boundary with the maximum margin, separating the classes as accurately as possible."
   ]
  },
  {
   "cell_type": "markdown",
   "id": "74f8f0e6",
   "metadata": {},
   "source": [
    "__Q3. What is the kernel trick in SVM?__\n",
    "\n",
    "__Ans)__  The kernel trick in SVM (Support Vector Machines) is a technique that allows nonlinear relationships between input features to be effectively captured without explicitly transforming the data into a higher-dimensional space. It enables SVMs to operate in a high-dimensional feature space while avoiding the computational cost of explicitly calculating the transformed features.\n",
    "\n",
    "The kernel trick is based on the concept of kernel functions. A kernel function is a measure of similarity between two input feature vectors in the original input space. It computes the inner product or similarity measure between the feature vectors without explicitly computing their coordinates in a higher-dimensional space.\n",
    "\n",
    "By using a kernel function, the SVM implicitly performs the transformation of the input features into a higher-dimensional space, where the data might be more linearly separable. This means that SVMs can model complex relationships and decision boundaries by effectively working with the kernel function without explicitly computing the transformed feature vectors."
   ]
  },
  {
   "cell_type": "markdown",
   "id": "a4caaf15",
   "metadata": {},
   "source": [
    "__Q4. What is the role of support vectors in SVM Explain with example__\n",
    "\n",
    "__Ans)__ The support vectors play a crucial role in SVM (Support Vector Machines) as they are the data points that lie closest to the decision boundary or hyperplane. These support vectors are the key elements that determine the location and orientation of the decision boundary and have a significant impact on the SVM model's performance and generalization.\n",
    "\n",
    "In SVM, the objective is to find the hyperplane that maximizes the margin between the two classes while correctly classifying the training data. The support vectors are the data points that lie on the margin or are misclassified. They represent the most challenging or influential instances that contribute to defining the decision boundary.\n",
    "\n",
    "The role of support vectors can be explained through an example. Let's consider a binary classification problem with two classes: positive (+) and negative (-). The goal is to separate these classes with a decision boundary."
   ]
  },
  {
   "cell_type": "markdown",
   "id": "609b520b",
   "metadata": {},
   "source": [
    "__Q5. Illustrate with examples and graphs of Hyperplane, Marginal plane, Soft margin and Hard margin in\n",
    "SVM?__\n",
    "\n",
    "__Ans)__ \n",
    "\n",
    "1. Hyperplane:\n",
    "In SVM, a hyperplane is a decision boundary that separates the data points of different classes. In a binary classification problem, it is a line in a 2D space or a hyperplane in higher-dimensional spaces. The hyperplane is represented by the equation w • x + b = 0, where w is the weight vector, x is the input feature vector, and b is the bias term.\n",
    "Example:\n",
    "Consider a 2D dataset with two classes, red (+) and blue (-). The hyperplane (decision boundary) is a line that separates the classes. The equation of the hyperplane is w • x + b = 0.\n",
    "\n",
    "2. Marginal Plane:\n",
    "The marginal plane, also known as the supporting hyperplane, is a parallel plane to the hyperplane that runs closest to the data points of each class. It defines the margin between the classes. In a binary classification problem, there is a marginal plane associated with each class.\n",
    "Example:\n",
    "Using the same dataset as before, the marginal plane is a line parallel to the hyperplane but closest to the support vectors (data points on or near the margin).\n",
    "\n",
    "3. Soft Margin:\n",
    "Soft margin SVM allows for some misclassification or errors in the margin. It introduces slack variables (ξ) to allow a certain amount of misclassification, making the SVM more flexible. The C parameter controls the trade-off between maximizing the margin and allowing misclassifications.\n",
    "Example:\n",
    "Consider a dataset with overlapping classes that cannot be perfectly separated by a hyperplane. A soft margin SVM allows for a more flexible decision boundary by allowing some data points to be misclassified or fall within the margin.\n",
    "\n",
    "4. Hard Margin:\n",
    "Hard margin SVM aims to find a decision boundary that perfectly separates the classes with no misclassifications or errors within the margin. It assumes that the data is linearly separable without any overlap.\n",
    "Example:\n",
    "Consider a dataset with classes that are perfectly separable by a hyperplane without any misclassifications."
   ]
  },
  {
   "cell_type": "markdown",
   "id": "93cd4663",
   "metadata": {},
   "source": [
    "Q6. SVM Implementation through Iris dataset.\n",
    "\n",
    "Bonus task: Implement a linear SVM classifier from scratch using Python and compare its\n",
    "performance with the scikit-learn implementation.\n",
    "\n",
    "- Load the iris dataset from the scikit-learn library and split it into a training set and a testing setl\n",
    "-  Train a linear SVM classifier on the training set and predict the labels for the testing setl\n",
    "-  Compute the accuracy of the model on the testing setl\n",
    "-  Plot the decision boundaries of the trained model using two of the featuresl\n",
    "- Try different values of the regularisation parameter C and see how it affects the performance of the model."
   ]
  },
  {
   "cell_type": "code",
   "execution_count": 1,
   "id": "5148c7c0",
   "metadata": {},
   "outputs": [],
   "source": [
    "import numpy as np\n",
    "import matplotlib.pyplot as plt\n",
    "from sklearn import datasets\n",
    "from sklearn.model_selection import train_test_split\n",
    "from sklearn.svm import SVC\n",
    "from sklearn.metrics import accuracy_score"
   ]
  },
  {
   "cell_type": "code",
   "execution_count": 2,
   "id": "bcf2a32b",
   "metadata": {},
   "outputs": [],
   "source": [
    "iris = datasets.load_iris()\n",
    "X = iris.data[:, :2]  # Considering only the first two features for simplicity\n",
    "y = iris.target\n",
    "\n",
    "X_train, X_test, y_train, y_test = train_test_split(X, y, test_size=0.2, random_state=42)"
   ]
  },
  {
   "cell_type": "code",
   "execution_count": 3,
   "id": "b10ca68f",
   "metadata": {},
   "outputs": [],
   "source": [
    "# Using scikit-learn implementation of SVM\n",
    "svm = SVC(kernel='linear')\n",
    "svm.fit(X_train, y_train)\n",
    "y_pred = svm.predict(X_test)"
   ]
  },
  {
   "cell_type": "code",
   "execution_count": 4,
   "id": "c824e795",
   "metadata": {},
   "outputs": [
    {
     "name": "stdout",
     "output_type": "stream",
     "text": [
      "Accuracy: 0.9\n"
     ]
    }
   ],
   "source": [
    "accuracy = accuracy_score(y_test, y_pred)\n",
    "print(\"Accuracy:\", accuracy)"
   ]
  },
  {
   "cell_type": "code",
   "execution_count": 5,
   "id": "33cbad4f",
   "metadata": {},
   "outputs": [
    {
     "data": {
      "image/png": "[encoded data removed]",
      "text/plain": [
       "<Figure size 576x432 with 1 Axes>"
      ]
     },
     "metadata": {
      "needs_background": "light"
     },
     "output_type": "display_data"
    }
   ],
   "source": [
    "# Create a meshgrid of points to plot the decision boundaries\n",
    "h = 0.02  # Step size for meshgrid\n",
    "x_min, x_max = X[:, 0].min() - 1, X[:, 0].max() + 1\n",
    "y_min, y_max = X[:, 1].min() - 1, X[:, 1].max() + 1\n",
    "xx, yy = np.meshgrid(np.arange(x_min, x_max, h), np.arange(y_min, y_max, h))\n",
    "\n",
    "# Make predictions on the meshgrid points\n",
    "Z = svm.predict(np.c_[xx.ravel(), yy.ravel()])\n",
    "Z = Z.reshape(xx.shape)\n",
    "\n",
    "# Plot the decision boundaries and the data points\n",
    "plt.figure(figsize=(8, 6))\n",
    "plt.contourf(xx, yy, Z, alpha=0.8)\n",
    "plt.scatter(X[:, 0], X[:, 1], c=y, cmap=plt.cm.Set1)\n",
    "plt.xlabel('Sepal length')\n",
    "plt.ylabel('Sepal width')\n",
    "plt.title('Decision Boundaries of Linear SVM')\n",
    "plt.show()"
   ]
  },
  {
   "cell_type": "code",
   "execution_count": 6,
   "id": "7d3ee128",
   "metadata": {},
   "outputs": [
    {
     "name": "stdout",
     "output_type": "stream",
     "text": [
      "C = 0.1 , Accuracy: 0.8333333333333334\n",
      "C = 1 , Accuracy: 0.9\n",
      "C = 10 , Accuracy: 0.9\n",
      "C = 100 , Accuracy: 0.9\n"
     ]
    }
   ],
   "source": [
    "C_values = [0.1, 1, 10, 100]  # List of C values to try\n",
    "\n",
    "for C in C_values:\n",
    "    svm = SVC(kernel='linear', C=C)\n",
    "    svm.fit(X_train, y_train)\n",
    "    y_pred = svm.predict(X_test)\n",
    "    accuracy = accuracy_score(y_test, y_pred)\n",
    "    print(\"C =\", C, \", Accuracy:\", accuracy)"
   ]
  }
 ],
 "metadata": {
  "kernelspec": {
   "display_name": "Python 3 (ipykernel)",
   "language": "python",
   "name": "python3"
  },
  "language_info": {
   "codemirror_mode": {
    "name": "ipython",
    "version": 3
   },
   "file_extension": ".py",
   "mimetype": "text/x-python",
   "name": "python",
   "nbconvert_exporter": "python",
   "pygments_lexer": "ipython3",
   "version": "3.9.12"
  },
  "varInspector": {
   "cols": {
    "lenName": 16,
    "lenType": 16,
    "lenVar": 40
   },
   "kernels_config": {
    "python": {
     "delete_cmd_postfix": "",
     "delete_cmd_prefix": "del ",
     "library": "var_list.py",
     "varRefreshCmd": "print(var_dic_list())"
    },
    "r": {
     "delete_cmd_postfix": ") ",
     "delete_cmd_prefix": "rm(",
     "library": "var_list.r",
     "varRefreshCmd": "cat(var_dic_list()) "
    }
   },
   "types_to_exclude": [
    "module",
    "function",
    "builtin_function_or_method",
    "instance",
    "_Feature"
   ],
   "window_display": false
  }
 },
 "nbformat": 4,
 "nbformat_minor": 5
}
